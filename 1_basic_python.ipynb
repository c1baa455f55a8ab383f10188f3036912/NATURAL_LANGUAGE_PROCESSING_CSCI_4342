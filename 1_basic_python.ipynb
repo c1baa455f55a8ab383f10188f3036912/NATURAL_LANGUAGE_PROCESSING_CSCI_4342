{
 "cells": [
  {
   "cell_type": "markdown",
   "metadata": {},
   "source": [
    "# Python Reserved Word\n",
    "No object can gave the same name as reserved word."
   ]
  },
  {
   "cell_type": "code",
   "execution_count": null,
   "metadata": {},
   "outputs": [
    {
     "ename": "",
     "evalue": "",
     "output_type": "error",
     "traceback": [
      "\u001b[1;31mRunning cells with 'Python 3.12.3' requires the ipykernel package.\n",
      "\u001b[1;31mRun the following command to install 'ipykernel' into the Python environment. \n",
      "\u001b[1;31mCommand: '/bin/python -m pip install ipykernel -U --user --force-reinstall'"
     ]
    }
   ],
   "source": [
    "tu = (4123, 'Mustafa', 4.56 , (2,3), 'token')\n",
    "# tuples defined using ()\n",
    "\n",
    "li = [\"Aisyah\",34, 4.34 , 23]\n",
    "# list defined using []\n",
    "\n",
    "st='Welcome to Python'\n",
    "#string defined using quotes and triple quotes\n",
    "\n",
    "tu[1],li[1],st[1]\n",
    "#access individual member of a tuple list using bracker array notation "
   ]
  },
  {
   "cell_type": "code",
   "execution_count": null,
   "metadata": {},
   "outputs": [],
   "source": [
    "''' Positive and Negative Indices '''\n",
    "t = (23, 'orange', 4.56, (2,3), 'apple')\n",
    "#positive index count from front start with 0\n",
    "#negative index count from back start with -1\n",
    "\n",
    "t[1] == t[-4]"
   ]
  },
  {
   "cell_type": "code",
   "execution_count": null,
   "metadata": {},
   "outputs": [],
   "source": [
    "''' Return Copy of A Subset '''\n",
    "\n",
    "t[1:4]\n",
    "\n",
    "# you can also use negative indices when slicing\n",
    "t[1:-1]\n",
    "\n",
    "t[:2]\n",
    "\n",
    "t[2:]\n",
    "\n",
    "t[::-1]\n",
    "\n",
    "t[::-2]\n",
    "\n",
    "t[::2]\n",
    "\n",
    "\n"
   ]
  },
  {
   "cell_type": "code",
   "execution_count": null,
   "metadata": {},
   "outputs": [],
   "source": [
    "'''Immutable and Mutable'''\n",
    "li = ['abc',23, 4.34, 23]\n",
    "li[1] = 45\n",
    "#list is mutable can change , li will still points to the same memory ref when were done\n",
    "\n",
    "tup = (23,'abc',4.56, (2,3),'def')\n",
    "tup[2] = 3.14\n",
    "\n",
    "#you can't change tuple \n",
    "#you can make new tuple and assign its reference to oa previously used name\n",
    "#the immutability of tuples means theyre faster than lists\n"
   ]
  },
  {
   "cell_type": "code",
   "execution_count": null,
   "metadata": {},
   "outputs": [],
   "source": [
    "'''Operation on Lists'''\n",
    "\n",
    "li = [1,11,3,4,5]\n",
    "li.append('a')\n",
    "\n",
    "li \n",
    "\n",
    "li.insert(2,'i')\n",
    "\n",
    "li = ['a','b','c','b']\n",
    "\n",
    "li.index('b')\n",
    "# index of first occurrence \n",
    "\n",
    "li.count('b')\n",
    "#number of occurence\n",
    "\n",
    "li.remove('b')\n",
    "\n",
    "li = ['Salaam'] * 4\n",
    "# repetition\n",
    "\n",
    "li = ['N','L','P']\n",
    "'S' in li \n",
    "#membership\n",
    "\n",
    "'''Extend vs Append'''\n",
    "[1,11,'i',3,4,5,'a']\n",
    "li.extend([9,8,7])\n",
    "li.append([10,11,12])\n",
    "li.reverse()\n",
    "li.sort()\n",
    "\n",
    "names = [\"fatima\",\"alice\",\"abdulla\",\"syed\"]\n",
    "names.sort(reverse=True)\n"
   ]
  },
  {
   "cell_type": "code",
   "execution_count": null,
   "metadata": {},
   "outputs": [],
   "source": [
    "d = {'user':'ameer','pswd':1234}\n",
    "\n",
    "d['user']\n",
    "\n",
    "d['pswd']\n",
    "\n",
    "d['ameer'] #no such key\n",
    "\n",
    "''' Creating and accessing dictionaries'''\n",
    "\n",
    "ages = {\"Aminah\":4, \"Maryam\":2, \"Bilal\":3}\n",
    "for name in ages.keys():\n",
    "    print(name, ages[name])\n",
    "\n",
    "'''Updating Dictionaries'''\n",
    "d = {'user':'ameer','pswd':1234}\n",
    "d['user'] = 'faruq'\n",
    "d['id'] = 45  # adds new key and value to dictionary\n",
    "\n",
    "\n",
    "''' Removing dictioniary entries'''\n",
    "del d['user'] # remove dictionairy entries\n",
    "d.clear()\n",
    "\n",
    "a = [1,2]\n",
    "del a[1]  #del also works with lists"
   ]
  },
  {
   "cell_type": "markdown",
   "metadata": {},
   "source": [
    "|functios and metthods| details|\n",
    "|---|---|\n",
    "|len|return the number of items in the dictionary|\n",
    "|dict.copy|return a copy of dictionary dict|\n",
    "|dict.deepcopy| return a deep copy of dictionary dict|\n",
    "|dict.items|return a list of dict (key,value) tuple pairs|\n",
    "|dict.keys|returns a list of dictionary dict's keys|\n",
    "|dict.values|return a list of dictionary dict's values|"
   ]
  },
  {
   "cell_type": "code",
   "execution_count": null,
   "metadata": {},
   "outputs": [],
   "source": [
    "f = open('sentence.dat','r') # returns a file object\n",
    "print(f)\n",
    "f.close() #close connection of file\n",
    "\n",
    "f.read() #reads antire contet of a file \n",
    "f.readline() #read a single line from a file arguments"
   ]
  },
  {
   "cell_type": "code",
   "execution_count": null,
   "metadata": {},
   "outputs": [],
   "source": [
    "'''Writing into files'''\n",
    "\n",
    "f = open('prob.dat','w')\n",
    "f.write('This is a test\\n')\n",
    "\n",
    "\n",
    "'''Appending items into files'''\n",
    "\n",
    "f = open('prob.dat','w')\n",
    "f.write('This is a test\\n')\n",
    "value = ('the answer is',42)\n",
    "s = str(value)\n",
    "f.write(s)\n"
   ]
  },
  {
   "cell_type": "code",
   "execution_count": null,
   "metadata": {},
   "outputs": [],
   "source": [
    "'''Importing Modules(os)'''\n",
    "\n",
    "import os \n",
    "os.chdir('c:/users/student')\n",
    "infile = open('paragraph.dat','r')\n",
    "inread =infile.readlines()"
   ]
  }
 ],
 "metadata": {
  "kernelspec": {
   "display_name": "Python 3",
   "language": "python",
   "name": "python3"
  },
  "language_info": {
   "name": "python",
   "version": "3.12.3"
  }
 },
 "nbformat": 4,
 "nbformat_minor": 2
}
