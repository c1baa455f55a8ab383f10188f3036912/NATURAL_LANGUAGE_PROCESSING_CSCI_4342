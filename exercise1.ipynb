{
 "cells": [
  {
   "cell_type": "code",
   "execution_count": 2,
   "metadata": {},
   "outputs": [
    {
     "name": "stdout",
     "output_type": "stream",
     "text": [
      "(23, 'orange', 4.56)\n",
      "(4.56, (2, 3), 'apple')\n"
     ]
    }
   ],
   "source": [
    "t = (23,'orange',4.56,(2,3),'apple')\n",
    "print(t[:-2])\n",
    "print(t[2:])\n",
    "\n",
    "# it says deepcopy is not attribute of dictionary"
   ]
  },
  {
   "cell_type": "code",
   "execution_count": 6,
   "metadata": {},
   "outputs": [
    {
     "name": "stdout",
     "output_type": "stream",
     "text": [
      "Remove Apple:  {'durian': 'green', 'grape': 'purple'}\n",
      "Add Banana {'durian': 'green', 'grape': 'purple', 'banana': 'yellow'}\n",
      "How many elements:  3\n",
      "Create shallow copy {'durian': 'green', 'grape': 'purple', 'banana': 'yellow'}\n",
      "Create deep copy {'durian': 'green', 'grape': 'purple', 'banana': 'yellow'}\n"
     ]
    }
   ],
   "source": [
    "mydiction = dict(apple = \"red\", durian = \"green\", grape = \"purple\")\n",
    "del mydiction['apple']\n",
    "print(\"Remove Apple: \",mydiction)\n",
    "mydiction['banana'] = \"yellow\"\n",
    "print(\"Add Banana\",mydiction)\n",
    "print(\"How many elements: \",len(mydiction.keys()))\n",
    "shallow_copy = mydiction.copy()\n",
    "print(\"Create shallow copy\",shallow_copy)\n",
    "import copy\n",
    "deep_copy = copy.deepcopy(mydiction)\n",
    "print(\"Create deep copy\",deep_copy)\n",
    "\n",
    "\n"
   ]
  },
  {
   "cell_type": "markdown",
   "metadata": {},
   "source": [
    "Mohamad Fadzwan Ashriq Bin Zainurul Hakim (2116337)"
   ]
  }
 ],
 "metadata": {
  "kernelspec": {
   "display_name": "Python 3",
   "language": "python",
   "name": "python3"
  },
  "language_info": {
   "codemirror_mode": {
    "name": "ipython",
    "version": 3
   },
   "file_extension": ".py",
   "mimetype": "text/x-python",
   "name": "python",
   "nbconvert_exporter": "python",
   "pygments_lexer": "ipython3",
   "version": "3.12.2"
  }
 },
 "nbformat": 4,
 "nbformat_minor": 2
}
