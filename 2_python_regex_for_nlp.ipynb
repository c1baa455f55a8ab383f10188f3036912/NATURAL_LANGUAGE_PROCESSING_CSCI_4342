{
 "cells": [
  {
   "cell_type": "code",
   "execution_count": null,
   "metadata": {},
   "outputs": [],
   "source": [
    "'''Python Rematch '''\n",
    "\n",
    "import re \n",
    "sent = \"Train the kids to play soccer\"\n",
    "re.match('[bdt]rain',sent,re.I)#returns an object \n",
    "mat = re.match('[bdt]rain',sent,re.I)\n",
    "mat.group() #returns a matched expression\n",
    "\n"
   ]
  },
  {
   "cell_type": "markdown",
   "metadata": {},
   "source": [
    "|Match Object Methods| Description|\n",
    "|---|---|\n",
    "|group(num=0)|This method returns entire match (or specific subgroup num)\n",
    "|groups()|This method returns all matching subgroups in a tuple (empty if there weren't any)|\n",
    "\n",
    "```python\n",
    "import re\n",
    "text = \" A scripting language is more suitable for NLP than a compiled language\"\n",
    "searchObj = re.search(r'(.*) is (.*) .*',text, re.M|re.I)\n",
    "\n",
    "if searchObj:\n",
    "    print(\"searchObj.group(): \", searchObj.group())\n",
    "    print(\"searchObj.group(1): \", searchObj.group(1))\n",
    "    print(\"searchObj.group(2): \", searchObj.group(2))\n",
    "else:\n",
    "    print(\"Found nothing!\")\n",
    "\n",
    "```"
   ]
  },
  {
   "cell_type": "code",
   "execution_count": null,
   "metadata": {},
   "outputs": [],
   "source": [
    "'''\n",
    "Match a string that begins with 0 or exactly 1 string of any combination followed by the word \"grand\",\"granda\",\"grande\",\"grandi\",\"grando\"or\"grandu\"\n",
    "\n",
    "'''\n",
    "\n",
    "french2 = \"Dans une grande ame tout est grand' means In a great mind everything is great \"\n",
    "\n",
    "re.match('(.*?) grand[aeiou]*', french2, re.M | re.I).group()\n",
    "\n",
    "#match the string that starts with 0 or more strings of any combination , followed by the word \"grand\", \"granda\",\"grande\",\"grandi\",\"grando\" or \"grandu\"\n",
    "#without ?\n",
    "re.match('(.*) grand[aeiou]*', french2, re.M | re.I).group()\n"
   ]
  },
  {
   "cell_type": "code",
   "execution_count": null,
   "metadata": {},
   "outputs": [],
   "source": [
    "'''\n",
    "String Searching with Python RE\n",
    "\n",
    "re.search() searches for first occurance of RE pattern, within string with optional flag\n",
    "returns a match object on success, None on failre and uses group(num) or groups() to get matched expression\n",
    "\n",
    "\n",
    "'''\n",
    "\n",
    "import re \n",
    "\n",
    "sent = \"She is boiling some water and digging the soil\"\n",
    "re.search('[bcs]oil',sent,re.I)\n",
    "srch = re.search('[bcs]oil',sent,re.I)\n",
    "srch.group()\n"
   ]
  },
  {
   "cell_type": "code",
   "execution_count": null,
   "metadata": {},
   "outputs": [],
   "source": [
    "''' String Matching vs Searching\n",
    "* re.match function only checks if the RE matches at the beginning of the string\n",
    "* match() only reports a successful match which start at position 0\n",
    "* re.scan() scans forward through the string for a match\n",
    " '''\n",
    "\n",
    "print(re.search('gram','grammar'))\n",
    "print(re.search('gram','programmer'))\n",
    "print(re.search('gram','programmer').group(0))"
   ]
  },
  {
   "cell_type": "code",
   "execution_count": null,
   "metadata": {},
   "outputs": [],
   "source": [
    "''' Greedy vs Ungreedy Search\n",
    "* repeating a regular expression as in a* attempts to consume as much of the pattern as possible because of its greedy nature\n",
    "* goes as far as is it can, instead of stopping at the first\n",
    "'''\n",
    "\n",
    "import re \n",
    "exp = '<b>me</b> abd <i>my buddy</i>'\n",
    "print((re.match('<.*>',exp)).group(0))\n",
    "s = '<html><head><title>Title</title>'\n",
    "print(re.match('<.*>',s).group(0))\n",
    "\n",
    "# using the non-greedy qualifiers which match as little text as possible\n",
    "print(re.match('<.*?>',s).group(0))\n"
   ]
  },
  {
   "cell_type": "code",
   "execution_count": null,
   "metadata": {},
   "outputs": [],
   "source": [
    "'''Compiling Regular Expression'''\n",
    "\n",
    "import re \n",
    "pe = re.compile('ab*')\n",
    "\n",
    "''' String Modifcation and Replacement'''\n",
    "# sub Returns the string obtained by replacing the leftmost non-overlapping occurences of the RE in string\n",
    "p = re.compile('(blue|white|red)')\n",
    "p.sub('colour','blue socks and red shoes')\n",
    "p.sub('colour','blue socks and red shoes', count=1)\n",
    "\n",
    "# .subn() method does the same work but returns a 2-tuple containg the new string value and the number of replacemetns performed\n",
    "p = re.compile('(blue|white|red)')\n",
    "p.subn('colour','blue socks and red shoes')\n",
    "p.subn('color','no colours at all')\n"
   ]
  },
  {
   "cell_type": "markdown",
   "metadata": {},
   "source": [
    "## More RE Method\n",
    "\n",
    "|Method/Attribute|Purpose|\n",
    "|match()| Determine if the RE matches at the beginning of the string|\n",
    "|search()|Scan through a string, looking for any location where this RE matches.|\n",
    "|findall()|Find all substrings where the RE matches, and return them as a list.|\n",
    "|finditer()| Find all substring where the RE matches and returns them as an iterator|\n",
    "\n",
    "```python\n",
    "import re \n",
    "m = re.search('(?<=abc)def')\n",
    "m.group(0)\n",
    "```\n",
    "\n",
    "```python\n",
    "m = re.search('(?<=-)\\w+','spam-egg')\n",
    "m.group(0)\n",
    "```\n",
    "\n",
    "```python\n",
    "exp = '<b>me</b> and <i>my buddy</i>'\n",
    "print(re.findall('<.*?>',exp))\n",
    "print(re.findall('<.??>',exp))\n",
    "```"
   ]
  },
  {
   "cell_type": "markdown",
   "metadata": {},
   "source": [
    "## Erros is RE\n",
    "\n",
    "* Type 1 error / FP\n",
    "    * matching strings that we should not have matched\n",
    "* Type II error / FN\n",
    "    * Not matching strings tha twe should have matched\n",
    "\n",
    "* Reducing error rates for an application involves 2 efforts\n",
    "    * increase accuract or precision \n",
    "    * increase coverage or recall\n"
   ]
  },
  {
   "cell_type": "markdown",
   "metadata": {},
   "source": [
    "# Exercise \n",
    "\n",
    "Write a regular expression with Python that does the following :\n",
    "\n",
    "Extracts the IP addresses from the log file provided (e.g: 192.168.2.1)\n",
    "\n",
    "Extracts DATETIME from the file log provided (if any) (e.g: 03/22 08:52:51).\n",
    "\n",
    "Extracts path/URL from the log file provided (if \n",
    "       any)  (e.g: ns.marryaldkfaczcz.com)."
   ]
  },
  {
   "cell_type": "code",
   "execution_count": null,
   "metadata": {},
   "outputs": [],
   "source": [
    "import re\n",
    "\n",
    "log_line = '192.168.2.1 - - [03/22 08:52:51] \"GET ns.marryaldkfaczcz.com HTTP/1.1\" 200 123'\n",
    "\n",
    "# Extract IP address\n",
    "ip_pattern = r'\\b\\d{1,3}\\.\\d{1,3}\\.\\d{1,3}\\.\\d{1,3}\\b'\n",
    "ip_address = re.findall(ip_pattern, log_line)[0]\n",
    "print(f\"IP Address: {ip_address}\")\n",
    "\n",
    "# Extract datetime\n",
    "datetime_pattern = r'\\[\\d{2}/\\d{2}\\s\\d{2}:\\d{2}:\\d{2}\\]'\n",
    "datetime_str = re.findall(datetime_pattern, log_line)[0]\n",
    "datetime = datetime_str.strip('[]')\n",
    "print(f\"Datetime: {datetime}\")\n",
    "\n",
    "# Extract path/URL\n",
    "url_pattern = r'\"GET\\s(\\S+)\\sHTTP'\n",
    "url = re.findall(url_pattern, log_line)[0]\n",
    "print(f\"URL: {url}\")"
   ]
  }
 ],
 "metadata": {
  "language_info": {
   "name": "python"
  }
 },
 "nbformat": 4,
 "nbformat_minor": 2
}
